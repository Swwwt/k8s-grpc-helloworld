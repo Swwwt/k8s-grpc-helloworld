{
 "cells": [
  {
   "cell_type": "markdown",
   "metadata": {},
   "source": [
    "#### 1. File Directory"
   ]
  },
  {
   "cell_type": "raw",
   "metadata": {},
   "source": [
    "-somename\n",
    "\t-Dockerfile\n",
    "\t-app/\n",
    "\t\t-client.py\n",
    "\t\t-server.py\n",
    "\t\t-test_pb2.py\n",
    "\t\t-test_pb2_grpc.py"
   ]
  },
  {
   "cell_type": "markdown",
   "metadata": {},
   "source": [
    "#### 2. Build & Push Image"
   ]
  },
  {
   "cell_type": "code",
   "execution_count": null,
   "metadata": {},
   "outputs": [],
   "source": [
    "!docker build -t swwwt/k8s-grpc .\n",
    "!docker push swwwt/k8s-grpc"
   ]
  }
 ],
 "metadata": {
  "kernelspec": {
   "display_name": "Python 3",
   "language": "python",
   "name": "python3"
  },
  "language_info": {
   "codemirror_mode": {
    "name": "ipython",
    "version": 3
   },
   "file_extension": ".py",
   "mimetype": "text/x-python",
   "name": "python",
   "nbconvert_exporter": "python",
   "pygments_lexer": "ipython3",
   "version": "3.7.0"
  }
 },
 "nbformat": 4,
 "nbformat_minor": 2
}
